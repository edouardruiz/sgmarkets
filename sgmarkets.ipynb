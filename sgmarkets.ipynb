{
 "cells": [
  {
   "cell_type": "code",
   "execution_count": 1,
   "metadata": {
    "collapsed": false
   },
   "outputs": [],
   "source": [
    "import json\n",
    "import requests"
   ]
  },
  {
   "cell_type": "code",
   "execution_count": 99,
   "metadata": {
    "collapsed": true
   },
   "outputs": [],
   "source": [
    "status_url = \"https://sp.sgmarkets.com/status/json\"\n",
    "generate_indicative_url = \"https://sp.sgmarkets.com/rest/quotes/generate-indicative\"\n",
    "panel_url = \"https://sp.sgmarkets.com/rest/panel/content\"\n",
    "sso_extends_url = \"https://sp.sgmarkets.com/rest/sso/extends\""
   ]
  },
  {
   "cell_type": "markdown",
   "metadata": {},
   "source": [
    "## Get the status"
   ]
  },
  {
   "cell_type": "code",
   "execution_count": 80,
   "metadata": {
    "collapsed": false
   },
   "outputs": [
    {
     "data": {
      "text/plain": [
       "<Response [200]>"
      ]
     },
     "execution_count": 80,
     "metadata": {},
     "output_type": "execute_result"
    }
   ],
   "source": [
    "status_res = requests.get(status_url)\n",
    "status_res"
   ]
  },
  {
   "cell_type": "code",
   "execution_count": 81,
   "metadata": {
    "collapsed": false,
    "scrolled": true
   },
   "outputs": [
    {
     "data": {
      "text/plain": [
       "{'criticalChecksHealthy': True,\n",
       " 'healthy': True,\n",
       " 'onStandby': False,\n",
       " 'results': {'CreditRateUnderlyingsRepository': {'checkExecTime': '2016-12-28T22:06:29.4189364+01:00',\n",
       "   'critical': False,\n",
       "   'healthy': True,\n",
       "   'message': 'AlphaUnderlyingInfoDto repository has 371 items'},\n",
       "  'Display error screen': {'checkExecTime': '2016-12-28T22:06:29.4189364+01:00',\n",
       "   'critical': True,\n",
       "   'healthy': True,\n",
       "   'message': 'Error screen is not displayed'},\n",
       "  'ElasticSearch Controller': {'checkExecTime': '2016-12-28T22:06:29.4189364+01:00',\n",
       "   'critical': False,\n",
       "   'healthy': True,\n",
       "   'message': 'Online'},\n",
       "  'ElasticSearchAppender': {'checkExecTime': '2016-12-28T22:06:29.4199298+01:00',\n",
       "   'critical': False,\n",
       "   'healthy': True,\n",
       "   'message': 'Online'},\n",
       "  'Entitlements': {'checkExecTime': '2016-12-28T22:06:29.41793+01:00',\n",
       "   'critical': False,\n",
       "   'healthy': True,\n",
       "   'message': 'Entitlements service is up'},\n",
       "  'EquityUnderlyingsRepository': {'checkExecTime': '2016-12-28T22:06:29.4199298+01:00',\n",
       "   'critical': False,\n",
       "   'healthy': True,\n",
       "   'message': 'AlphaUnderlyingInfoDto repository has 1298 items'},\n",
       "  'InOutElasticSearchAppender': {'checkExecTime': '2016-12-28T22:06:29.4199298+01:00',\n",
       "   'critical': False,\n",
       "   'healthy': True,\n",
       "   'message': 'Online'},\n",
       "  'LegalDefaultsRepository': {'checkExecTime': '2016-12-28T22:06:29.4189364+01:00',\n",
       "   'critical': False,\n",
       "   'healthy': True,\n",
       "   'message': 'AlphaLegalDefaultsDto repository has 110 items'},\n",
       "  'Login': {'checkExecTime': '2016-12-28T22:06:08.32806+01:00',\n",
       "   'critical': False,\n",
       "   'healthy': True,\n",
       "   'message': 'Login service up & running'},\n",
       "  'Nirvana': {'checkExecTime': '2016-12-28T22:06:29.4199298+01:00',\n",
       "   'critical': True,\n",
       "   'healthy': True,\n",
       "   'message': 'Connected as  sgmsp-prod_webap...'},\n",
       "  'PRB Primary Service': {'checkExecTime': '2016-12-28T22:06:13.0360911+01:00',\n",
       "   'critical': False,\n",
       "   'healthy': True,\n",
       "   'message': 'http://prb.int.world.socgen:7010/etl-alpha-web/services/AlphaClientServiceFacadeV20?wsdl up & running'},\n",
       "  'PrbStatefulChannelCurrenciesRepository': {'checkExecTime': '2016-12-28T22:06:29.4189364+01:00',\n",
       "   'critical': False,\n",
       "   'healthy': True,\n",
       "   'message': 'AlphaCurrencyDto repository has 14 items'},\n",
       "  'ProgrammeSupportedLanguagesRepository': {'checkExecTime': '2016-12-28T22:06:29.4189364+01:00',\n",
       "   'critical': False,\n",
       "   'healthy': True,\n",
       "   'message': 'AlphaProgrammeSupportedLanguagesDto repository has 3 items'},\n",
       "  'RefRatesRepository': {'checkExecTime': '2016-12-28T22:06:29.4189364+01:00',\n",
       "   'critical': False,\n",
       "   'healthy': True,\n",
       "   'message': 'AlphaRefRateDto repository has 76 items'},\n",
       "  'SP2M (Secondary Products)': {'checkExecTime': '2016-12-28T22:06:13.0060624+01:00',\n",
       "   'critical': False,\n",
       "   'healthy': True,\n",
       "   'message': 'https://prbprdweb21.fr.world.socgen:7021/sp2m-bridge-sg-market/services/echo?value=ping up & running'},\n",
       "  'SSO': {'checkExecTime': '2016-12-28T22:06:29.4189364+01:00',\n",
       "   'critical': True,\n",
       "   'healthy': True,\n",
       "   'message': 'SSO is up'},\n",
       "  'SettlementCalendarsRepository': {'checkExecTime': '2016-12-28T22:06:29.4189364+01:00',\n",
       "   'critical': False,\n",
       "   'healthy': True,\n",
       "   'message': 'AlphaSettlementCalendarDto repository has 14 items'},\n",
       "  'TradingLimitsRepository': {'checkExecTime': '2016-12-28T22:06:29.4189364+01:00',\n",
       "   'critical': False,\n",
       "   'healthy': True,\n",
       "   'message': 'AlphaTradingLimitDto repository has 21 items'},\n",
       "  'ValuationCalendarsRepository': {'checkExecTime': '2016-12-28T22:06:29.4199298+01:00',\n",
       "   'critical': False,\n",
       "   'healthy': True,\n",
       "   'message': 'AlphaCalendarDto repository has 85 items'}},\n",
       " 'serviceAvailable': True}"
      ]
     },
     "execution_count": 81,
     "metadata": {},
     "output_type": "execute_result"
    }
   ],
   "source": [
    "status_res.json()"
   ]
  },
  {
   "cell_type": "markdown",
   "metadata": {},
   "source": [
    "## Get an indicative price"
   ]
  },
  {
   "cell_type": "markdown",
   "metadata": {},
   "source": [
    "### Launch the price"
   ]
  },
  {
   "cell_type": "code",
   "execution_count": 87,
   "metadata": {
    "collapsed": true
   },
   "outputs": [],
   "source": [
    "headers = {\n",
    "#     \"Host\": \"sp.sgmarkets.com\",\n",
    "#     \"Connection\": \"keep-alive\",\n",
    "#     \"Content-Length\": \"5187\",\n",
    "    \"correlationId\": \"8f8357b2-373f-4fa1-ad6f-d8df739340d9\",  # change\n",
    "#     \"Origin\": \"https://sp.sgmarkets.com\",\n",
    "#     \"User-Agent\": \"Mozilla/5.0 (Macintosh; Intel Mac OS X 10_12_2) AppleWebKit/537.36 (KHTML, like Gecko) Chrome/55.0.2883.95 Safari/537.36\",\n",
    "    \"NIRVANA_SESSION_ID\": \"-7362230985145975000\",\n",
    "    \"Content-Type\": \"application/json;charset=UTF-8\",\n",
    "    \"Accept\": \"application/json, text/plain, */*\",\n",
    "#     \"timestamp\": \"1482957597134\",  # change\n",
    "#     \"NIRVANA_USERNAME\": \"sdp/sgmsp-prod-emea^edouard.ruiz#sgcib.com^db9b9bfe-21ba-4682-830e-4429098394f7\",\n",
    "    \"DATASTREAM_ID\": \"4TW9JsH_O7nxcEIqzceAe30BsoU\",\n",
    "#     \"DNT\": \"1\",\n",
    "#     \"Referer\": \"https://sp.sgmarkets.com/index.html\",\n",
    "#     \"Accept-Encoding\": \"gzip, deflate, br\",\n",
    "#     \"Accept-Language\": \"fr-FR,fr;q=0.8,en-US;q=0.6,en;q=0.4,de;q=0.2\",\n",
    "    \"Cookie\": \"SGR_tid=9e988cbc6a274397b3e60fb583d22d39; SGM.ASPXAUTH=01054FC04C3D06735A27D5AA622342A73EBC30A3A2B0916FAFFDDC77793D57A21F9DEB97977CEF1CA8DF375BAF797EDB05B33D4D23D3569CF6847FB41F4C932DD28D4999C084C628E1E5D3F1DF4A558346334E0855623F400E5B8B84D30D4EE1E77BA08E50164E763772C20683AAF410A2269ECB6C0DFC908EFE1424D36E64A8011C73A650C9AF1E00A6212CF7DC6317196E91A7; _ga=GA1.2.2089408398.1482950452; SGM.AUTH_L3=ALfgFTqppGfa7Xkzw6QYja+svjDqJMQDMvP9h1Dn8x85zsOc6aBrYJLlOfEogM972gmn8l548CwwCkD5SNv5g4f40PAR6mJHdt6jJ3EaYUfpF+I4dQRM2VZEPMC7U3Zygg==; _pk_ref.78.1992=%5B%22%22%2C%22%22%2C1482953169%2C%22https%3A%2F%2Flogin.sgmarkets.com%2FDisclaimer%2FEXEC_SP%3FReturnUrl%3Dhttps%3A%2F%2Fsp.sgmarkets.com%2Findex.html%22%5D; sgconnect-l1=eyAidHlwIjogIkpXVCIsICJlbmMiOiAiQTEyOENCQ19IUzI1NiIsICJhbGciOiAiUlNBRVNfUEtDUzFfVjFfNSIgfQ.FMXASJMliComBFty167s54jRJdE3dQOTeztjRWC-PQ4_AI-jVrVoaojp2xKGdF9ltuAPvvqAy6O2K-ta7n-WiGTMlQlcWsFW1Wz2iq3w5QrrKZVmSr9zEHMoAi8HIANnbH2IvfWfZ8s_eENBvGMTPUw17JKH0KkUKX5Xzm6egXIWouw-90j94oLioI2xnCCtx_ktG_LrqvHaZEKw-xvskXHEq8HgCAa9Pfu_0tW8wsTHUTonRNMpE0Dl8paaHOuKJNeu0HQbx9joA2i2jGKkNwP9EwBwZjZOZOvMM_CZTpuO_OnlV8n0JtlGe50-bYG9m_a5OkVxLwrz0y_r6kqivg.X5Ox4wQ23xzN6XRN8NkRIw.H5uOy3Heqj4iTUy2o7noTxuLMJqBh5Sh88s_5ek9-J_34wswOF6j_A8bOZNc7kNHWrlbqOa0b9HB4A9lwJl_Z29bqbQzLNWuAjxracGlEx8WtrRQsOt-I6kOyJUNuFXEXlwxV1nU1k1BuF3GlwK-OmgjR4RcGXlQslHRHqQoTXxzOkIxKhemsFDQzEYyE5fDXT157bD-UafJemYm3rnmUhr8Wq7gmyZcnlfDCbs45PjVjkVXlze6odG1Upkvp7CzGUjwbVG3Pvf6kp22aazVDCB19KBrBETUcr6x1g44fB4UB8PW4Zxhdm2cClNshEQJbaM5kHKhoff9XwXoxyERcRFToCpyzLq4qpC4SQOwDgdl3q0yNA0X7rr_nAiBUNwfcSwKXrhRwwlyRz9L-VpR7UaobIpAbMh3Md4GrYNuTM6Lad2jrwKtnGNXfsJTiIr_aTKQHTujv_ZfW5sS96DhtQ.aq1ZPuI9l6d1-PBqhpLT0A; sgconnect-l2=AQIC5wM2LY4Sfcw5T79zvgEp6kZPF4q7fLss6ye9AL0eNkk.*AAJTSQACMDIAAlNLABQtNjI2MzQxODMxMDcyMzI1OTQ5MgACUzEAAjA2*; sgconnect-l3=af93d9a0-5ff7-4065-bd3c-bdf5404771ae; sgconnect-userid=e6dcb2f6-413e-44c5-b202-9d65ed7d2631; SGM.AUTHL2=7ADD9BD76C70C751A5F367F1B8DCAD32F772AF4475038FA870691E207A08D26743B7053C5ACB2FB8C448960EA209CCA3CE50682A93C97ABC48A5F432E7D6EFDAD193F0D977548F8EF75316E64333A9F85D48BBA3392985E83C70CCF396B58B33DAF97A4BF9BB891AEBCCDFEFFB6D5FA22E3A86DDF125820F2CE7DD0792DEF65462FD8FCE1C612BDDC144C3440AA9B0613F162F77CB58DD8F066D9382429BCAC269921661ECBAC0DAA96D2D8D343B0D7A7F48D6AB4DE28C62643FB1D6D706B1D14B10886509F7BCD8844D628682A88779940FB2C7; nv-session-id-v2=sdp%2fsgmsp-prod-emea%5eedouard.ruiz%23sgcib.com%5ea31b3c8c-b454-4a50-a063-86105081f5af; _pk_id.78.1992=37fbaf94c69b93b2.1482950735.2.1482959254.1482950852.; _pk_ses.78.1992=*\"  # change\n",
    "}"
   ]
  },
  {
   "cell_type": "code",
   "execution_count": 88,
   "metadata": {
    "collapsed": true
   },
   "outputs": [],
   "source": [
    "data = '{\"RequestTime\":\"2016-12-28T21:39:57.133+01:00\",\"TabId\":\"77c42fe3-b34d-40d3-9202-201ea7dccc4a\",\"TriggeredBy\":null,\"VariationParameters\":{\"IsOnBehalf\":false,\"SelectedOnBehalfClient\":{},\"IsPrivateMode\":false,\"ProductType\":\"Autocall\",\"ProductSubtype\":\"PhoenixWithGuaranteedCoupons\",\"Wrapper\":\"Note\",\"Underlying\":[{\"id\":\"UCG IM\",\"idType\":\"Bloomberg\",\"name\":\"UniCredit SpA\",\"currency\":\"EUR\",\"exchange\":\"Borsa Italiana\",\"asset\":0,\"type\":\"Share\",\"bloombergTickerCode\":\"UCG IM\",\"extendedMarketOffset\":0}],\"MaturityValue\":{\"value\":36,\"unit\":\"Month\"},\"SolvingMode\":\"CouponValue\",\"Currency\":\"EUR\",\"NotionalAmount\":1000000,\"RemunerationMode\":\"Upfront\",\"UpfrontFee\":1,\"ComputedPrice\":1,\"XMargin\":{\"value\":0,\"customized\":false},\"SettlementType\":\"Physical\",\"StrikeMode\":\"Close\",\"IssuePricePercent\":100,\"IsAstroQuote\":false,\"Strike\":100,\"KiBarrierType\":\"European\",\"KiBarrier\":70,\"CouponType\":\"Guaranteed\",\"CouponDefType\":\"Flat\",\"CouponFrequency\":\"TwoPerYear\",\"RecallStartPeriod\":1,\"RecallThreshold\":100,\"RecallCoupon\":5.55,\"TradeDate\":\"2016-12-28T20:45:53.144Z\",\"LaunchDate\":\"2016-12-28T20:45:53.144Z\",\"InitialValuationDate\":\"2016-12-28T00:00:00.000Z\",\"IssueDate\":\"2017-01-04T00:00:00.000Z\",\"FinalValuationDate\":\"2019-12-30T00:00:00.000Z\",\"MaturityDate\":\"2020-01-08T00:00:00.000Z\",\"ValuationDatesCalendar\":[\"MIL\"],\"MaturityDateCalendars\":[\"MIL,Valuation,EUR\",\"EU,Settlement,EUR\"],\"FinalValuationDateCalendars\":[\"MIL,Valuation,EUR\"],\"InitialValuationDateCalendars\":[\"MIL,Valuation,EUR\"],\"IssueDateCalendars\":[\"EU,Settlement,EUR\"],\"PaymentDatesCalendar\":\"EU\",\"SettlementOffset\":5,\"ScheduleDrivenBy\":\"ValuationDates\",\"ScheduleGeneration\":\"Forward\",\"AutocallScheduleDates\":[{\"GridCouponUnit\":\"Percent\",\"AutocallGridNumber\":1,\"ValuationDate\":\"2017-06-28\",\"PaymentDate\":\"2017-07-05\",\"CouponValue\":5.55,\"RecallThresholdInGrid\":{\"type\":\"EditablePercentGridField\",\"manuallyEdited\":false,\"lowLimitValue\":\"0\",\"highLimitValue\":\"130\",\"value\":100,\"id\":\"RecallThresholdInGrid\",\"order\":0,\"translationKey\":\"RecallThresholdInGrid\",\"isReadOnly\":false,\"isHidden\":false,\"trigger\":true,\"validationDependencies\":[\"RecallStartPeriod\",\"AutocallScheduleDates\",\"ProductSubtype\"],\"dashboardInclude\":false},\"RecallCoupon\":5.55},{\"GridCouponUnit\":\"Percent\",\"AutocallGridNumber\":2,\"ValuationDate\":\"2017-12-28\",\"PaymentDate\":\"2018-01-05\",\"CouponValue\":5.55,\"RecallThresholdInGrid\":{\"type\":\"EditablePercentGridField\",\"manuallyEdited\":false,\"lowLimitValue\":\"0\",\"highLimitValue\":\"130\",\"value\":100,\"id\":\"RecallThresholdInGrid\",\"order\":1,\"translationKey\":\"RecallThresholdInGrid\",\"isReadOnly\":false,\"isHidden\":false,\"trigger\":true,\"validationDependencies\":[\"RecallStartPeriod\",\"AutocallScheduleDates\",\"ProductSubtype\"],\"dashboardInclude\":false},\"RecallCoupon\":5.55},{\"GridCouponUnit\":\"Percent\",\"AutocallGridNumber\":3,\"ValuationDate\":\"2018-06-28\",\"PaymentDate\":\"2018-07-05\",\"CouponValue\":5.55,\"RecallThresholdInGrid\":{\"type\":\"EditablePercentGridField\",\"manuallyEdited\":false,\"lowLimitValue\":\"0\",\"highLimitValue\":\"130\",\"value\":100,\"id\":\"RecallThresholdInGrid\",\"order\":2,\"translationKey\":\"RecallThresholdInGrid\",\"isReadOnly\":false,\"isHidden\":false,\"trigger\":true,\"validationDependencies\":[\"RecallStartPeriod\",\"AutocallScheduleDates\",\"ProductSubtype\"],\"dashboardInclude\":false},\"RecallCoupon\":5.55},{\"GridCouponUnit\":\"Percent\",\"AutocallGridNumber\":4,\"ValuationDate\":\"2018-12-28\",\"PaymentDate\":\"2019-01-07\",\"CouponValue\":5.55,\"RecallThresholdInGrid\":{\"type\":\"EditablePercentGridField\",\"manuallyEdited\":false,\"lowLimitValue\":\"0\",\"highLimitValue\":\"130\",\"value\":100,\"id\":\"RecallThresholdInGrid\",\"order\":3,\"translationKey\":\"RecallThresholdInGrid\",\"isReadOnly\":false,\"isHidden\":false,\"trigger\":true,\"validationDependencies\":[\"RecallStartPeriod\",\"AutocallScheduleDates\",\"ProductSubtype\"],\"dashboardInclude\":false},\"RecallCoupon\":5.55},{\"GridCouponUnit\":\"Percent\",\"AutocallGridNumber\":5,\"ValuationDate\":\"2019-06-28\",\"PaymentDate\":\"2019-07-05\",\"CouponValue\":5.55,\"RecallThresholdInGrid\":{\"type\":\"EditablePercentGridField\",\"manuallyEdited\":false,\"lowLimitValue\":\"0\",\"highLimitValue\":\"130\",\"value\":100,\"id\":\"RecallThresholdInGrid\",\"order\":4,\"translationKey\":\"RecallThresholdInGrid\",\"isReadOnly\":false,\"isHidden\":false,\"trigger\":true,\"validationDependencies\":[\"RecallStartPeriod\",\"AutocallScheduleDates\",\"ProductSubtype\"],\"dashboardInclude\":false},\"RecallCoupon\":5.55},{\"GridCouponUnit\":\"Percent\",\"AutocallGridNumber\":6,\"ValuationDate\":\"2019-12-30\",\"PaymentDate\":\"2020-01-08\",\"CouponValue\":5.55,\"RecallThresholdInGrid\":{\"type\":\"EditablePercentGridField\",\"manuallyEdited\":false,\"lowLimitValue\":\"0\",\"highLimitValue\":\"130\",\"value\":100,\"id\":\"RecallThresholdInGrid\",\"order\":5,\"translationKey\":\"RecallThresholdInGrid\",\"isReadOnly\":false,\"isHidden\":false,\"trigger\":true,\"validationDependencies\":[\"RecallStartPeriod\",\"AutocallScheduleDates\",\"ProductSubtype\"],\"dashboardInclude\":false},\"RecallCoupon\":5.55}],\"Denomination\":1000,\"IssuePriceDefinition\":\"Percent\",\"IssueSize\":1200000,\"PriceType\":\"Dirty\",\"CalculationAgent\":\"SOCGEN\",\"IssuedBy\":\"SGIS\",\"Guarantor\":\"SOCGEN\",\"LeadManager\":\"SOCGEN\",\"FirstClearing\":\"SIS\",\"SecondClearing\":\"ECBCSB\",\"PayingAgent\":\"SGZU\",\"GoverningLaw\":\"English\",\"ListingPlaces\":[],\"PublicOffering\":[],\"Mifid\":\"NoMifid\",\"DedicatedProduct\":\"No\"}}'"
   ]
  },
  {
   "cell_type": "code",
   "execution_count": 89,
   "metadata": {
    "collapsed": false
   },
   "outputs": [
    {
     "data": {
      "text/plain": [
       "{'RequestTime': '2016-12-28T21:39:57.133+01:00',\n",
       " 'TabId': '77c42fe3-b34d-40d3-9202-201ea7dccc4a',\n",
       " 'TriggeredBy': None,\n",
       " 'VariationParameters': {'AutocallScheduleDates': [{'AutocallGridNumber': 1,\n",
       "    'CouponValue': 5.55,\n",
       "    'GridCouponUnit': 'Percent',\n",
       "    'PaymentDate': '2017-07-05',\n",
       "    'RecallCoupon': 5.55,\n",
       "    'RecallThresholdInGrid': {'dashboardInclude': False,\n",
       "     'highLimitValue': '130',\n",
       "     'id': 'RecallThresholdInGrid',\n",
       "     'isHidden': False,\n",
       "     'isReadOnly': False,\n",
       "     'lowLimitValue': '0',\n",
       "     'manuallyEdited': False,\n",
       "     'order': 0,\n",
       "     'translationKey': 'RecallThresholdInGrid',\n",
       "     'trigger': True,\n",
       "     'type': 'EditablePercentGridField',\n",
       "     'validationDependencies': ['RecallStartPeriod',\n",
       "      'AutocallScheduleDates',\n",
       "      'ProductSubtype'],\n",
       "     'value': 100},\n",
       "    'ValuationDate': '2017-06-28'},\n",
       "   {'AutocallGridNumber': 2,\n",
       "    'CouponValue': 5.55,\n",
       "    'GridCouponUnit': 'Percent',\n",
       "    'PaymentDate': '2018-01-05',\n",
       "    'RecallCoupon': 5.55,\n",
       "    'RecallThresholdInGrid': {'dashboardInclude': False,\n",
       "     'highLimitValue': '130',\n",
       "     'id': 'RecallThresholdInGrid',\n",
       "     'isHidden': False,\n",
       "     'isReadOnly': False,\n",
       "     'lowLimitValue': '0',\n",
       "     'manuallyEdited': False,\n",
       "     'order': 1,\n",
       "     'translationKey': 'RecallThresholdInGrid',\n",
       "     'trigger': True,\n",
       "     'type': 'EditablePercentGridField',\n",
       "     'validationDependencies': ['RecallStartPeriod',\n",
       "      'AutocallScheduleDates',\n",
       "      'ProductSubtype'],\n",
       "     'value': 100},\n",
       "    'ValuationDate': '2017-12-28'},\n",
       "   {'AutocallGridNumber': 3,\n",
       "    'CouponValue': 5.55,\n",
       "    'GridCouponUnit': 'Percent',\n",
       "    'PaymentDate': '2018-07-05',\n",
       "    'RecallCoupon': 5.55,\n",
       "    'RecallThresholdInGrid': {'dashboardInclude': False,\n",
       "     'highLimitValue': '130',\n",
       "     'id': 'RecallThresholdInGrid',\n",
       "     'isHidden': False,\n",
       "     'isReadOnly': False,\n",
       "     'lowLimitValue': '0',\n",
       "     'manuallyEdited': False,\n",
       "     'order': 2,\n",
       "     'translationKey': 'RecallThresholdInGrid',\n",
       "     'trigger': True,\n",
       "     'type': 'EditablePercentGridField',\n",
       "     'validationDependencies': ['RecallStartPeriod',\n",
       "      'AutocallScheduleDates',\n",
       "      'ProductSubtype'],\n",
       "     'value': 100},\n",
       "    'ValuationDate': '2018-06-28'},\n",
       "   {'AutocallGridNumber': 4,\n",
       "    'CouponValue': 5.55,\n",
       "    'GridCouponUnit': 'Percent',\n",
       "    'PaymentDate': '2019-01-07',\n",
       "    'RecallCoupon': 5.55,\n",
       "    'RecallThresholdInGrid': {'dashboardInclude': False,\n",
       "     'highLimitValue': '130',\n",
       "     'id': 'RecallThresholdInGrid',\n",
       "     'isHidden': False,\n",
       "     'isReadOnly': False,\n",
       "     'lowLimitValue': '0',\n",
       "     'manuallyEdited': False,\n",
       "     'order': 3,\n",
       "     'translationKey': 'RecallThresholdInGrid',\n",
       "     'trigger': True,\n",
       "     'type': 'EditablePercentGridField',\n",
       "     'validationDependencies': ['RecallStartPeriod',\n",
       "      'AutocallScheduleDates',\n",
       "      'ProductSubtype'],\n",
       "     'value': 100},\n",
       "    'ValuationDate': '2018-12-28'},\n",
       "   {'AutocallGridNumber': 5,\n",
       "    'CouponValue': 5.55,\n",
       "    'GridCouponUnit': 'Percent',\n",
       "    'PaymentDate': '2019-07-05',\n",
       "    'RecallCoupon': 5.55,\n",
       "    'RecallThresholdInGrid': {'dashboardInclude': False,\n",
       "     'highLimitValue': '130',\n",
       "     'id': 'RecallThresholdInGrid',\n",
       "     'isHidden': False,\n",
       "     'isReadOnly': False,\n",
       "     'lowLimitValue': '0',\n",
       "     'manuallyEdited': False,\n",
       "     'order': 4,\n",
       "     'translationKey': 'RecallThresholdInGrid',\n",
       "     'trigger': True,\n",
       "     'type': 'EditablePercentGridField',\n",
       "     'validationDependencies': ['RecallStartPeriod',\n",
       "      'AutocallScheduleDates',\n",
       "      'ProductSubtype'],\n",
       "     'value': 100},\n",
       "    'ValuationDate': '2019-06-28'},\n",
       "   {'AutocallGridNumber': 6,\n",
       "    'CouponValue': 5.55,\n",
       "    'GridCouponUnit': 'Percent',\n",
       "    'PaymentDate': '2020-01-08',\n",
       "    'RecallCoupon': 5.55,\n",
       "    'RecallThresholdInGrid': {'dashboardInclude': False,\n",
       "     'highLimitValue': '130',\n",
       "     'id': 'RecallThresholdInGrid',\n",
       "     'isHidden': False,\n",
       "     'isReadOnly': False,\n",
       "     'lowLimitValue': '0',\n",
       "     'manuallyEdited': False,\n",
       "     'order': 5,\n",
       "     'translationKey': 'RecallThresholdInGrid',\n",
       "     'trigger': True,\n",
       "     'type': 'EditablePercentGridField',\n",
       "     'validationDependencies': ['RecallStartPeriod',\n",
       "      'AutocallScheduleDates',\n",
       "      'ProductSubtype'],\n",
       "     'value': 100},\n",
       "    'ValuationDate': '2019-12-30'}],\n",
       "  'CalculationAgent': 'SOCGEN',\n",
       "  'ComputedPrice': 1,\n",
       "  'CouponDefType': 'Flat',\n",
       "  'CouponFrequency': 'TwoPerYear',\n",
       "  'CouponType': 'Guaranteed',\n",
       "  'Currency': 'EUR',\n",
       "  'DedicatedProduct': 'No',\n",
       "  'Denomination': 1000,\n",
       "  'FinalValuationDate': '2019-12-30T00:00:00.000Z',\n",
       "  'FinalValuationDateCalendars': ['MIL,Valuation,EUR'],\n",
       "  'FirstClearing': 'SIS',\n",
       "  'GoverningLaw': 'English',\n",
       "  'Guarantor': 'SOCGEN',\n",
       "  'InitialValuationDate': '2016-12-28T00:00:00.000Z',\n",
       "  'InitialValuationDateCalendars': ['MIL,Valuation,EUR'],\n",
       "  'IsAstroQuote': False,\n",
       "  'IsOnBehalf': False,\n",
       "  'IsPrivateMode': False,\n",
       "  'IssueDate': '2017-01-04T00:00:00.000Z',\n",
       "  'IssueDateCalendars': ['EU,Settlement,EUR'],\n",
       "  'IssuePriceDefinition': 'Percent',\n",
       "  'IssuePricePercent': 100,\n",
       "  'IssueSize': 1200000,\n",
       "  'IssuedBy': 'SGIS',\n",
       "  'KiBarrier': 70,\n",
       "  'KiBarrierType': 'European',\n",
       "  'LaunchDate': '2016-12-28T20:45:53.144Z',\n",
       "  'LeadManager': 'SOCGEN',\n",
       "  'ListingPlaces': [],\n",
       "  'MaturityDate': '2020-01-08T00:00:00.000Z',\n",
       "  'MaturityDateCalendars': ['MIL,Valuation,EUR', 'EU,Settlement,EUR'],\n",
       "  'MaturityValue': {'unit': 'Month', 'value': 36},\n",
       "  'Mifid': 'NoMifid',\n",
       "  'NotionalAmount': 1000000,\n",
       "  'PayingAgent': 'SGZU',\n",
       "  'PaymentDatesCalendar': 'EU',\n",
       "  'PriceType': 'Dirty',\n",
       "  'ProductSubtype': 'PhoenixWithGuaranteedCoupons',\n",
       "  'ProductType': 'Autocall',\n",
       "  'PublicOffering': [],\n",
       "  'RecallCoupon': 5.55,\n",
       "  'RecallStartPeriod': 1,\n",
       "  'RecallThreshold': 100,\n",
       "  'RemunerationMode': 'Upfront',\n",
       "  'ScheduleDrivenBy': 'ValuationDates',\n",
       "  'ScheduleGeneration': 'Forward',\n",
       "  'SecondClearing': 'ECBCSB',\n",
       "  'SelectedOnBehalfClient': {},\n",
       "  'SettlementOffset': 5,\n",
       "  'SettlementType': 'Physical',\n",
       "  'SolvingMode': 'CouponValue',\n",
       "  'Strike': 100,\n",
       "  'StrikeMode': 'Close',\n",
       "  'TradeDate': '2016-12-28T20:45:53.144Z',\n",
       "  'Underlying': [{'asset': 0,\n",
       "    'bloombergTickerCode': 'UCG IM',\n",
       "    'currency': 'EUR',\n",
       "    'exchange': 'Borsa Italiana',\n",
       "    'extendedMarketOffset': 0,\n",
       "    'id': 'UCG IM',\n",
       "    'idType': 'Bloomberg',\n",
       "    'name': 'UniCredit SpA',\n",
       "    'type': 'Share'}],\n",
       "  'UpfrontFee': 1,\n",
       "  'ValuationDatesCalendar': ['MIL'],\n",
       "  'Wrapper': 'Note',\n",
       "  'XMargin': {'customized': False, 'value': 0}}}"
      ]
     },
     "execution_count": 89,
     "metadata": {},
     "output_type": "execute_result"
    }
   ],
   "source": [
    "json_data = json.loads(data)\n",
    "json_data"
   ]
  },
  {
   "cell_type": "code",
   "execution_count": 90,
   "metadata": {
    "collapsed": false
   },
   "outputs": [
    {
     "data": {
      "text/plain": [
       "<Response [200]>"
      ]
     },
     "execution_count": 90,
     "metadata": {},
     "output_type": "execute_result"
    }
   ],
   "source": [
    "res = requests.post(generate_indicative_url, data=data, headers=headers)\n",
    "res"
   ]
  },
  {
   "cell_type": "code",
   "execution_count": 91,
   "metadata": {
    "collapsed": false
   },
   "outputs": [
    {
     "data": {
      "text/plain": [
       "{'status': 'Successful',\n",
       " 'technical': {'eventDate': '2016-12-28 21:11:05Z',\n",
       "  'productId': '410116016',\n",
       "  'quoteId': '410116022',\n",
       "  'requestId': '8f8357b2-373f-4fa1-ad6f-d8df739340d9'},\n",
       " 'timeToQuoteMs': 240000}"
      ]
     },
     "execution_count": 91,
     "metadata": {},
     "output_type": "execute_result"
    }
   ],
   "source": [
    "res.json()"
   ]
  },
  {
   "cell_type": "markdown",
   "metadata": {},
   "source": [
    "### Get the result"
   ]
  },
  {
   "cell_type": "code",
   "execution_count": 47,
   "metadata": {
    "collapsed": true
   },
   "outputs": [],
   "source": [
    "result_headers = {\n",
    "    \"correlationId\": \"0342b109-d899-4d57-b259-4104e4db9366\",\n",
    "    \"Origin\": \"https://sp.sgmarkets.com\",\n",
    "    \"Accept-Encoding\": \"gzip, deflate, br\",\n",
    "    \"Accept-Language\": \"fr-FR,fr;q=0.8,en-US;q=0.6,en;q=0.4,de;q=0.2\",\n",
    "    \"NIRVANA_SESSION_ID\": \"-7362222322196939000\",\n",
    "    \"Cookie\": \"SGR_tid=9e988cbc6a274397b3e60fb583d22d39; SGM.ASPXAUTH=01054FC04C3D06735A27D5AA622342A73EBC30A3A2B0916FAFFDDC77793D57A21F9DEB97977CEF1CA8DF375BAF797EDB05B33D4D23D3569CF6847FB41F4C932DD28D4999C084C628E1E5D3F1DF4A558346334E0855623F400E5B8B84D30D4EE1E77BA08E50164E763772C20683AAF410A2269ECB6C0DFC908EFE1424D36E64A8011C73A650C9AF1E00A6212CF7DC6317196E91A7; _ga=GA1.2.2089408398.1482950452; SGM.AUTH_L3=ALfgFTqppGfa7Xkzw6QYja+svjDqJMQDMvP9h1Dn8x85zsOc6aBrYJLlOfEogM972gmn8l548CwwCkD5SNv5g4f40PAR6mJHdt6jJ3EaYUfpF+I4dQRM2VZEPMC7U3Zygg==; _pk_ref.78.1992=%5B%22%22%2C%22%22%2C1482953169%2C%22https%3A%2F%2Flogin.sgmarkets.com%2FDisclaimer%2FEXEC_SP%3FReturnUrl%3Dhttps%3A%2F%2Fsp.sgmarkets.com%2Findex.html%22%5D; SGM.AUTHL2=C9984CBC03B064F1AE54BB198014D26B3ED0AB305CE522DF8A01725E0E259F2FF3DEB093FFB657E07BB2F83EDBBE588ACD51FF5AE85897DB4F54B4FF03CD4D486C12CF74FA833AF9A30D11AE4D57DD08EA33597814F718E862DC315261290B79F2ED89E25E52BCC1B886B6C93FA979E7103E3343888E119194FE85CEC8FF8227AE8FE125623925F207E21FFF00512315241D842580E1CF456B0B670954F62BFBF07011BB4F1BFBFA3B14422593C3D568581A4F40C2C7708C93BDEA82D33CEE5002CCDD79DF9D6D639E6019118B638983D945C16B; sgconnect-l1=eyAidHlwIjogIkpXVCIsICJlbmMiOiAiQTEyOENCQ19IUzI1NiIsICJhbGciOiAiUlNBRVNfUEtDUzFfVjFfNSIgfQ.FMXASJMliComBFty167s54jRJdE3dQOTeztjRWC-PQ4_AI-jVrVoaojp2xKGdF9ltuAPvvqAy6O2K-ta7n-WiGTMlQlcWsFW1Wz2iq3w5QrrKZVmSr9zEHMoAi8HIANnbH2IvfWfZ8s_eENBvGMTPUw17JKH0KkUKX5Xzm6egXIWouw-90j94oLioI2xnCCtx_ktG_LrqvHaZEKw-xvskXHEq8HgCAa9Pfu_0tW8wsTHUTonRNMpE0Dl8paaHOuKJNeu0HQbx9joA2i2jGKkNwP9EwBwZjZOZOvMM_CZTpuO_OnlV8n0JtlGe50-bYG9m_a5OkVxLwrz0y_r6kqivg.X5Ox4wQ23xzN6XRN8NkRIw.H5uOy3Heqj4iTUy2o7noTxuLMJqBh5Sh88s_5ek9-J_34wswOF6j_A8bOZNc7kNHWrlbqOa0b9HB4A9lwJl_Z29bqbQzLNWuAjxracGlEx8WtrRQsOt-I6kOyJUNuFXEXlwxV1nU1k1BuF3GlwK-OmgjR4RcGXlQslHRHqQoTXxzOkIxKhemsFDQzEYyE5fDXT157bD-UafJemYm3rnmUhr8Wq7gmyZcnlfDCbs45PjVjkVXlze6odG1Upkvp7CzGUjwbVG3Pvf6kp22aazVDCB19KBrBETUcr6x1g44fB4UB8PW4Zxhdm2cClNshEQJbaM5kHKhoff9XwXoxyERcRFToCpyzLq4qpC4SQOwDgdl3q0yNA0X7rr_nAiBUNwfcSwKXrhRwwlyRz9L-VpR7UaobIpAbMh3Md4GrYNuTM6Lad2jrwKtnGNXfsJTiIr_aTKQHTujv_ZfW5sS96DhtQ.aq1ZPuI9l6d1-PBqhpLT0A; sgconnect-l2=AQIC5wM2LY4Sfcw5T79zvgEp6kZPF4q7fLss6ye9AL0eNkk.*AAJTSQACMDIAAlNLABQtNjI2MzQxODMxMDcyMzI1OTQ5MgACUzEAAjA2*; sgconnect-l3=af93d9a0-5ff7-4065-bd3c-bdf5404771ae; sgconnect-userid=e6dcb2f6-413e-44c5-b202-9d65ed7d2631; _pk_id.78.1992=37fbaf94c69b93b2.1482950735.2.1482957978.1482950852.; _pk_ses.78.1992=*; nv-session-id-v2=sdp%2fsgmsp-prod-emea%5eedouard.ruiz%23sgcib.com%5e6e3bdb78-6d2b-4394-b7ec-a5724f3fbe77\",\n",
    "    \"Connection\": \"keep-alive\",\n",
    "    \"DATASTREAM_ID\": \"xBwqnzggkEbOKZzuapNa3261XxI\",\n",
    "    \"User-Agent\": \"Mozilla/5.0 (Macintosh; Intel Mac OS X 10_12_2) AppleWebKit/537.36 (KHTML, like Gecko) Chrome/55.0.2883.95 Safari/537.36\",\n",
    "    \"Content-Type\": \"application/json;charset=UTF-8\",\n",
    "    \"Accept\": \"application/json, text/plain, */*\",\n",
    "    \"timestamp\": \"1482958019428\",\n",
    "    \"Referer\": \"https://sp.sgmarkets.com/index.html\",\n",
    "    \"NIRVANA_USERNAME\": \"sdp/sgmsp-prod-emea^edouard.ruiz#sgcib.com^6e3bdb78-6d2b-4394-b7ec-a5724f3fbe77\",\n",
    "    \"DNT\": \"1\"\n",
    "}"
   ]
  },
  {
   "cell_type": "code",
   "execution_count": 48,
   "metadata": {
    "collapsed": true
   },
   "outputs": [],
   "source": [
    "result_data = '{\"variationParameters\":{\"IsOnBehalf\":false,\"SelectedOnBehalfClient\":{},\"IsPrivateMode\":false,\"ProductType\":\"Autocall\",\"ProductSubtype\":\"PhoenixWithGuaranteedCoupons\",\"Wrapper\":\"Note\",\"Underlying\":[{\"id\":\"UCG IM\",\"idType\":\"Bloomberg\",\"name\":\"UniCredit SpA\",\"currency\":\"EUR\",\"exchange\":\"Borsa Italiana\",\"asset\":0,\"type\":\"Share\",\"bloombergTickerCode\":\"UCG IM\",\"extendedMarketOffset\":0}],\"MaturityValue\":{\"value\":36,\"unit\":\"Month\"},\"SolvingMode\":\"CouponValue\",\"Currency\":\"EUR\",\"NotionalAmount\":1000000,\"RemunerationMode\":\"Upfront\",\"UpfrontFee\":1,\"ComputedPrice\":1,\"XMargin\":{\"value\":0,\"customized\":false},\"SettlementType\":\"Physical\",\"StrikeMode\":\"Close\",\"IssuePricePercent\":100,\"IsAstroQuote\":false,\"Strike\":100,\"KiBarrierType\":\"European\",\"KiBarrier\":70,\"CouponType\":\"Guaranteed\",\"CouponDefType\":\"Flat\",\"CouponFrequency\":\"TwoPerYear\",\"RecallStartPeriod\":1,\"RecallThreshold\":100,\"RecallCoupon\":5.55,\"TradeDate\":\"2016-12-28T21:46:09.580Z\",\"LaunchDate\":\"2016-12-28T21:46:09.580Z\",\"InitialValuationDate\":\"2016-12-28T00:00:00.000Z\",\"IssueDate\":\"2017-01-04T00:00:00.000Z\",\"FinalValuationDate\":\"2019-12-30T00:00:00.000Z\",\"MaturityDate\":\"2020-01-08T00:00:00.000Z\",\"ValuationDatesCalendar\":[\"MIL\"],\"MaturityDateCalendars\":[\"MIL,Valuation,EUR\",\"EU,Settlement,EUR\"],\"FinalValuationDateCalendars\":[\"MIL,Valuation,EUR\"],\"InitialValuationDateCalendars\":[\"MIL,Valuation,EUR\"],\"IssueDateCalendars\":[\"EU,Settlement,EUR\"],\"PaymentDatesCalendar\":\"EU\",\"SettlementOffset\":5,\"ScheduleDrivenBy\":\"ValuationDates\",\"ScheduleGeneration\":\"Forward\",\"AutocallScheduleDates\":[{\"GridCouponUnit\":\"Percent\",\"AutocallGridNumber\":1,\"ValuationDate\":\"2017-06-28\",\"PaymentDate\":\"2017-07-05\",\"CouponValue\":5.55,\"RecallThresholdInGrid\":{\"type\":\"EditablePercentGridField\",\"manuallyEdited\":false,\"lowLimitValue\":\"0\",\"highLimitValue\":\"130\",\"value\":100,\"id\":\"RecallThresholdInGrid\",\"order\":0,\"translationKey\":\"RecallThresholdInGrid\",\"isReadOnly\":false,\"isHidden\":false,\"trigger\":true,\"validationDependencies\":[\"RecallStartPeriod\",\"AutocallScheduleDates\",\"ProductSubtype\"],\"dashboardInclude\":false},\"RecallCoupon\":5.55},{\"GridCouponUnit\":\"Percent\",\"AutocallGridNumber\":2,\"ValuationDate\":\"2017-12-28\",\"PaymentDate\":\"2018-01-05\",\"CouponValue\":5.55,\"RecallThresholdInGrid\":{\"type\":\"EditablePercentGridField\",\"manuallyEdited\":false,\"lowLimitValue\":\"0\",\"highLimitValue\":\"130\",\"value\":100,\"id\":\"RecallThresholdInGrid\",\"order\":1,\"translationKey\":\"RecallThresholdInGrid\",\"isReadOnly\":false,\"isHidden\":false,\"trigger\":true,\"validationDependencies\":[\"RecallStartPeriod\",\"AutocallScheduleDates\",\"ProductSubtype\"],\"dashboardInclude\":false},\"RecallCoupon\":5.55},{\"GridCouponUnit\":\"Percent\",\"AutocallGridNumber\":3,\"ValuationDate\":\"2018-06-28\",\"PaymentDate\":\"2018-07-05\",\"CouponValue\":5.55,\"RecallThresholdInGrid\":{\"type\":\"EditablePercentGridField\",\"manuallyEdited\":false,\"lowLimitValue\":\"0\",\"highLimitValue\":\"130\",\"value\":100,\"id\":\"RecallThresholdInGrid\",\"order\":2,\"translationKey\":\"RecallThresholdInGrid\",\"isReadOnly\":false,\"isHidden\":false,\"trigger\":true,\"validationDependencies\":[\"RecallStartPeriod\",\"AutocallScheduleDates\",\"ProductSubtype\"],\"dashboardInclude\":false},\"RecallCoupon\":5.55},{\"GridCouponUnit\":\"Percent\",\"AutocallGridNumber\":4,\"ValuationDate\":\"2018-12-28\",\"PaymentDate\":\"2019-01-07\",\"CouponValue\":5.55,\"RecallThresholdInGrid\":{\"type\":\"EditablePercentGridField\",\"manuallyEdited\":false,\"lowLimitValue\":\"0\",\"highLimitValue\":\"130\",\"value\":100,\"id\":\"RecallThresholdInGrid\",\"order\":3,\"translationKey\":\"RecallThresholdInGrid\",\"isReadOnly\":false,\"isHidden\":false,\"trigger\":true,\"validationDependencies\":[\"RecallStartPeriod\",\"AutocallScheduleDates\",\"ProductSubtype\"],\"dashboardInclude\":false},\"RecallCoupon\":5.55},{\"GridCouponUnit\":\"Percent\",\"AutocallGridNumber\":5,\"ValuationDate\":\"2019-06-28\",\"PaymentDate\":\"2019-07-05\",\"CouponValue\":5.55,\"RecallThresholdInGrid\":{\"type\":\"EditablePercentGridField\",\"manuallyEdited\":false,\"lowLimitValue\":\"0\",\"highLimitValue\":\"130\",\"value\":100,\"id\":\"RecallThresholdInGrid\",\"order\":4,\"translationKey\":\"RecallThresholdInGrid\",\"isReadOnly\":false,\"isHidden\":false,\"trigger\":true,\"validationDependencies\":[\"RecallStartPeriod\",\"AutocallScheduleDates\",\"ProductSubtype\"],\"dashboardInclude\":false},\"RecallCoupon\":5.55},{\"GridCouponUnit\":\"Percent\",\"AutocallGridNumber\":6,\"ValuationDate\":\"2019-12-30\",\"PaymentDate\":\"2020-01-08\",\"CouponValue\":5.55,\"RecallThresholdInGrid\":{\"type\":\"EditablePercentGridField\",\"manuallyEdited\":false,\"lowLimitValue\":\"0\",\"highLimitValue\":\"130\",\"value\":100,\"id\":\"RecallThresholdInGrid\",\"order\":5,\"translationKey\":\"RecallThresholdInGrid\",\"isReadOnly\":false,\"isHidden\":false,\"trigger\":true,\"validationDependencies\":[\"RecallStartPeriod\",\"AutocallScheduleDates\",\"ProductSubtype\"],\"dashboardInclude\":false},\"RecallCoupon\":5.55}],\"Denomination\":1000,\"IssuePriceDefinition\":\"Percent\",\"IssueSize\":1200000,\"PriceType\":\"Dirty\",\"CalculationAgent\":\"SOCGEN\",\"IssuedBy\":\"SGIS\",\"Guarantor\":\"SOCGEN\",\"LeadManager\":\"SOCGEN\",\"FirstClearing\":\"SIS\",\"SecondClearing\":\"ECBCSB\",\"PayingAgent\":\"SGZU\",\"GoverningLaw\":\"English\",\"ListingPlaces\":[],\"PublicOffering\":[],\"Mifid\":\"NoMifid\",\"DedicatedProduct\":\"No\",\"CouponValue\":5.55},\"quoteResponse\":{\"solveResult\":5.55,\"solvingMode\":1,\"quoteId\":\"410115514\",\"timeToTrade\":0,\"errorMessages\":[],\"liveSpots\":[{\"BloombergCode\":\"UCG IM\",\"SpotValue\":null,\"DeltaValue\":0}],\"xMargin\":0,\"xMarginIsCustomized\":false,\"type\":0},\"status\":\"Successful\"}'"
   ]
  },
  {
   "cell_type": "code",
   "execution_count": 49,
   "metadata": {
    "collapsed": false
   },
   "outputs": [
    {
     "data": {
      "text/plain": [
       "<Response [200]>"
      ]
     },
     "execution_count": 49,
     "metadata": {},
     "output_type": "execute_result"
    }
   ],
   "source": [
    "result_res = requests.post(panel_url, data=result_data, headers=result_headers)\n",
    "result_res"
   ]
  },
  {
   "cell_type": "code",
   "execution_count": 51,
   "metadata": {
    "collapsed": false,
    "scrolled": true
   },
   "outputs": [
    {
     "data": {
      "text/plain": [
       "{'fields': [{'id': 'QuoteId',\n",
       "   'order': 0,\n",
       "   'shouldSplitByUpperCase': False,\n",
       "   'type': 'Text',\n",
       "   'unit': '',\n",
       "   'value': '410115514'},\n",
       "  {'id': 'Underlyings',\n",
       "   'order': 5,\n",
       "   'shouldSplitByUpperCase': False,\n",
       "   'type': 'Text',\n",
       "   'unit': '',\n",
       "   'value': 'UCG IM'},\n",
       "  {'id': 'ProductSubtype',\n",
       "   'order': 2,\n",
       "   'shouldSplitByUpperCase': True,\n",
       "   'type': 'Text',\n",
       "   'unit': '',\n",
       "   'value': 'PhoenixWithGuaranteedCoupons'},\n",
       "  {'id': 'SolvingMode',\n",
       "   'order': 7,\n",
       "   'shouldSplitByUpperCase': False,\n",
       "   'type': 'Text',\n",
       "   'unit': '',\n",
       "   'value': 'CouponValue'},\n",
       "  {'id': 'Currency',\n",
       "   'order': 3,\n",
       "   'shouldSplitByUpperCase': False,\n",
       "   'type': 'Text',\n",
       "   'unit': '',\n",
       "   'value': 'EUR'},\n",
       "  {'id': 'NotionalAmount',\n",
       "   'order': 4,\n",
       "   'shouldSplitByUpperCase': False,\n",
       "   'type': 'Text',\n",
       "   'unit': '',\n",
       "   'value': '1000000'},\n",
       "  {'id': 'UpfrontFee',\n",
       "   'order': 18,\n",
       "   'type': 'Double',\n",
       "   'unit': '%',\n",
       "   'value': 1.0},\n",
       "  {'id': 'XMargin', 'order': 17, 'type': 'Double', 'unit': '%', 'value': 0.0},\n",
       "  {'id': 'StrikeMode',\n",
       "   'order': 8,\n",
       "   'shouldSplitByUpperCase': False,\n",
       "   'type': 'Text',\n",
       "   'unit': '',\n",
       "   'value': 'Close'},\n",
       "  {'id': 'Strike', 'order': 9, 'type': 'Double', 'unit': '%', 'value': 100.0},\n",
       "  {'id': 'KiBarrier',\n",
       "   'order': 14,\n",
       "   'type': 'Double',\n",
       "   'unit': '%',\n",
       "   'value': 70.0},\n",
       "  {'id': 'CouponFrequency',\n",
       "   'order': 20,\n",
       "   'shouldSplitByUpperCase': True,\n",
       "   'type': 'Text',\n",
       "   'unit': '',\n",
       "   'value': 'TwoPerYear'},\n",
       "  {'id': 'RecallThreshold',\n",
       "   'order': 13,\n",
       "   'type': 'Double',\n",
       "   'unit': '%',\n",
       "   'value': 100.0},\n",
       "  {'id': 'RecallCoupon',\n",
       "   'order': 12,\n",
       "   'type': 'Double',\n",
       "   'unit': '% PP',\n",
       "   'value': 5.55},\n",
       "  {'id': 'MaturityDate',\n",
       "   'order': 6,\n",
       "   'type': 'Date',\n",
       "   'value': '2020-01-08T00:00:00Z'}],\n",
       " 'solveResult': 5.55,\n",
       " 'solvingMode': 'CouponValue',\n",
       " 'status': 'Successful',\n",
       " 'type': 'Indicative'}"
      ]
     },
     "execution_count": 51,
     "metadata": {},
     "output_type": "execute_result"
    }
   ],
   "source": [
    "result_res.json()"
   ]
  }
 ],
 "metadata": {
  "kernelspec": {
   "display_name": "Python 3",
   "language": "python",
   "name": "python3"
  },
  "language_info": {
   "codemirror_mode": {
    "name": "ipython",
    "version": 3
   },
   "file_extension": ".py",
   "mimetype": "text/x-python",
   "name": "python",
   "nbconvert_exporter": "python",
   "pygments_lexer": "ipython3",
   "version": "3.6.0"
  }
 },
 "nbformat": 4,
 "nbformat_minor": 2
}
